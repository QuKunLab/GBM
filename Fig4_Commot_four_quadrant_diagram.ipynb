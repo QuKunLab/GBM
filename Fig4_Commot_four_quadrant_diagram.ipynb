{
 "cells": [
  {
   "cell_type": "code",
   "execution_count": 1,
   "metadata": {
    "tags": []
   },
   "outputs": [],
   "source": [
    "import os\n",
    "import anndata\n",
    "import scanpy as sc\n",
    "import pandas as pd\n",
    "import numpy as np\n",
    "import scipy\n",
    "from scipy import stats\n",
    "from scipy import sparse\n",
    "from scipy.stats import spearmanr, pearsonr\n",
    "from scipy.spatial import distance_matrix\n",
    "import seaborn as sns\n",
    "import matplotlib.pyplot as plt\n",
    "from matplotlib.colors import LinearSegmentedColormap\n",
    "import commot as ct\n",
    "from statsmodels.stats import multitest\n",
    "import copy\n",
    "import math\n",
    "import warnings\n",
    "warnings.filterwarnings(\"ignore\")"
   ]
  },
  {
   "cell_type": "code",
   "execution_count": 3,
   "metadata": {
    "tags": []
   },
   "outputs": [],
   "source": [
    "'load splane data'\n",
    "data_quality = pd.read_csv('/home/qukun/ccp1997/GBM_10X/ng_revised/visium_matrix/visium_data_quality.csv',index_col=0)\n",
    "spatial_domain = pd.read_csv('/home/qukun/ccp1997/GBM_10X/ng_revised/visium_matrix/spatial_domain_table.csv',index_col=0)\n",
    "spatial_domain['sample'] = data_quality.loc[spatial_domain.index]['sample']\n",
    "\n",
    "ER_dict = {8:'NM',9:'NM',  6:'ER1',2:'ER1',  3:'ER2',  5:'ER3',4:'ER3',  7:'ER4',0:'ER4',1:'ER4'}         \n",
    "spatial_domain['Ecoregion'] = spatial_domain['spatial_domain'].map(ER_dict).tolist()"
   ]
  },
  {
   "cell_type": "code",
   "execution_count": 4,
   "metadata": {
    "tags": []
   },
   "outputs": [],
   "source": [
    "slide_self = ['P77_A1','P77_B1','P130_C1','P130_D1','P131_A1','P131_B1','P136_C1','P136_D1','P137_A1','P137_B1']\n",
    "slide_publicy = ['T_243','T_248','T_251','T_255','T_259','T_260','T_262','T_266','T_269','T_275','T_296','T_334','Visium_S1']\n",
    "slide_add = ['Pt1','Pt4','Pt5','Pt9','Pt10','Pt13','Pt14','GBM_2','GBM_3']\n",
    "slice_id = slide_self + slide_publicy + slide_add\n",
    "\n",
    "'Remove samples with too uneven spatial domain proportions, remove Pt1 and Pt13'\n",
    "slice_id = slice_id[:23] + slice_id[24:28] + slice_id[29:]"
   ]
  },
  {
   "cell_type": "code",
   "execution_count": 5,
   "metadata": {
    "tags": []
   },
   "outputs": [],
   "source": [
    "def fdr_t_test(df, leiden_result, target, fdr_threshold=0.05):\n",
    "    \n",
    "    merge_df = copy.deepcopy(df)\n",
    "    merge_df['leiden'] = leiden_result\n",
    "    \n",
    "    target_df = merge_df[merge_df['leiden']==target].drop('leiden',axis=1)\n",
    "    rest_df = merge_df[merge_df['leiden']!=target].drop('leiden',axis=1)\n",
    "    \n",
    "    mean_target = target_df.mean().to_numpy()\n",
    "    mean_rest = rest_df.mean().to_numpy()\n",
    "    \n",
    "    std_target = target_df.std().to_numpy()\n",
    "    std_rest = rest_df.std().to_numpy()\n",
    "    \n",
    "    num_t, num_r = len(target_df), len(rest_df)\n",
    "    \n",
    "    modified_std_t = np.sqrt(num_t/(num_t-1)) * std_target\n",
    "    modified_std_r = np.sqrt(num_r/(num_r-1)) * std_rest\n",
    "    \n",
    "    # t-test\n",
    "    (statistic, pvalue) = stats.ttest_ind_from_stats(mean1=mean_target, \n",
    "                                                     std1=modified_std_t, \n",
    "                                                     nobs1=num_t, \n",
    "                                                     mean2=mean_rest, \n",
    "                                                     std2=modified_std_r, \n",
    "                                                     nobs2=num_r)\n",
    "    \n",
    "    pvalue = [1 if math.isnan(x) else x for x in pvalue]\n",
    "    \n",
    "    # fdr correction\n",
    "    rejected, p_val_corrected = multitest.fdrcorrection(pvalue, \n",
    "                                                        alpha=fdr_threshold, \n",
    "                                                        method='indep', \n",
    "                                                        is_sorted=False)\n",
    "    \n",
    "    result_df = pd.DataFrame(index=df.columns, columns=['mean_in_target', \n",
    "                                                        'mean_in_rest',\n",
    "                                                        'std_err_in_target',\n",
    "                                                        'std_err_in_rest',\n",
    "                                                        'p_val',\n",
    "                                                        'p_val_corrected',\n",
    "                                                        'rejected',\n",
    "                                                        'target'])\n",
    "    tar_list = [target]*len(target_df.columns)\n",
    "    \n",
    "    result_df['mean_in_target'] = mean_target\n",
    "    result_df['mean_in_rest'] = mean_rest\n",
    "    result_df['std_err_in_target'] = modified_std_t\n",
    "    result_df['std_err_in_rest'] = modified_std_r\n",
    "    result_df['p_val'] = pvalue\n",
    "    result_df['p_val_corrected'] = p_val_corrected\n",
    "    result_df['rejected'] = rejected\n",
    "    result_df['target'] = tar_list\n",
    "    \n",
    "    return result_df"
   ]
  },
  {
   "cell_type": "markdown",
   "metadata": {},
   "source": [
    "## Target:\n",
    "1. Remove Non-Malignant\n",
    "2. Remove ER with spot count < 50"
   ]
  },
  {
   "cell_type": "markdown",
   "metadata": {},
   "source": [
    "## Load cellchat dataset"
   ]
  },
  {
   "cell_type": "code",
   "execution_count": 6,
   "metadata": {
    "tags": []
   },
   "outputs": [],
   "source": [
    "df_cellchat = ct.pp.ligand_receptor_database(species='human', signaling_type= None, database='CellChat')\n",
    "our_interaction_db = pd.read_csv('/home/qukun/ccp1997/GBM_10X/In_depth/scRNA_matrix/interaction_input_CellChatDB.combined.v1.csv',sep = ',',index_col=0)\n",
    "our_interaction_db_transfer = our_interaction_db[['ligand','receptor','pathway_name','annotation']]\n",
    "our_interaction_db_transfer.columns = ['0','1','2','3']\n",
    "our_interaction_db_transfer.index = range(our_interaction_db_transfer.shape[0])"
   ]
  },
  {
   "cell_type": "code",
   "execution_count": 7,
   "metadata": {
    "tags": []
   },
   "outputs": [],
   "source": [
    "done_index = len(slice_id)\n",
    "read_result = []\n",
    "def sub_read(idx):\n",
    "    file_name = '/home/qukun/ccp1997/GBM_10X/ng_revised/commot/no_log_h5ad/' + slice_id[idx] + '_commot.h5ad'\n",
    "    return sc.read_h5ad(file_name), idx\n",
    "\n",
    "from multiprocessing.pool import Pool\n",
    "with Pool(30) as pool:\n",
    "    read_result = pool.map(sub_read, range(done_index))\n",
    "    pool.close()\n",
    "    pool.join()  \n",
    "commot_adata = [read_result[i][0] for i in range(done_index)]"
   ]
  },
  {
   "cell_type": "markdown",
   "metadata": {},
   "source": [
    "## Remove NM"
   ]
  },
  {
   "cell_type": "code",
   "execution_count": 9,
   "metadata": {
    "tags": []
   },
   "outputs": [],
   "source": [
    "commot_adata_v2 = []\n",
    "for adata in commot_adata:\n",
    "    adata.obs['Ecoregion'] = adata.obs['spatial_domain'].map(ER_dict).tolist()\n",
    "    adata = adata[adata.obs['Ecoregion'] != 'NM']\n",
    "    commot_adata_v2.append(adata)\n",
    "    \n",
    "commot_adata = commot_adata_v2"
   ]
  },
  {
   "cell_type": "markdown",
   "metadata": {
    "tags": []
   },
   "source": [
    "## Domain small than 50"
   ]
  },
  {
   "cell_type": "code",
   "execution_count": 11,
   "metadata": {
    "tags": []
   },
   "outputs": [],
   "source": [
    "commot_adata_v3 = []\n",
    "for adata in commot_adata:\n",
    "    select_cells = []\n",
    "    for item in ['ER1','ER2','ER3','ER4']:\n",
    "        if np.sum(adata.obs['Ecoregion'] == item) >= 50:\n",
    "            select_cells = select_cells + adata.obs.loc[adata.obs['Ecoregion'] == item].index.tolist()\n",
    "    commot_adata_v3.append(adata[select_cells])\n",
    "\n",
    "commot_adata = commot_adata_v3\n",
    "\n",
    "for k,adata in enumerate(commot_adata):\n",
    "    adata.obs.index = [ item.split('-')[0]+'-'+slice_id[k]  for item in adata.obs.index ]"
   ]
  },
  {
   "cell_type": "code",
   "execution_count": 12,
   "metadata": {
    "tags": []
   },
   "outputs": [],
   "source": [
    "'fillna'\n",
    "merge_adata = sc.concat(commot_adata,join='outer')\n",
    "\n",
    "merge_adata.obsm['commot-our_db-sum-sender'] = merge_adata.obsm['commot-our_db-sum-sender'].fillna(0)\n",
    "merge_adata.obsm['commot-our_db-sum-receiver'] = merge_adata.obsm['commot-our_db-sum-receiver'].fillna(0)"
   ]
  },
  {
   "cell_type": "code",
   "execution_count": 13,
   "metadata": {
    "tags": []
   },
   "outputs": [],
   "source": [
    "def get_LR_df(adata):\n",
    "    r_spot = adata.obsm['commot-our_db-sum-receiver'].to_numpy()\n",
    "    s_spot = adata.obsm['commot-our_db-sum-sender'].to_numpy()\n",
    "\n",
    "    col = [p[2:] for p in adata.obsm['commot-our_db-sum-sender'].columns.tolist()]\n",
    "    data = r_spot + s_spot\n",
    "    spot_LR_df = pd.DataFrame(columns=col, index=adata.obsm['commot-our_db-sum-sender'].index, data=data)\n",
    "    return spot_LR_df\n",
    "\n",
    "\n",
    "def get_interaction_df(adata):\n",
    "    interact_matrix = []\n",
    "    pathway_name = [p[2:] for p in adata.obsm['commot-our_db-sum-sender'].columns.tolist()]\n",
    "    for pathway in pathway_name:\n",
    "        col_data = adata.obsp['commot-our_db-'+pathway].todense().sum(axis=0).tolist()[0]\n",
    "        interact_matrix.append(col_data)\n",
    "    interact_matrix = np.array(interact_matrix)\n",
    "    interact_df = pd.DataFrame(data=interact_matrix, index=pathway_name, columns=adata.obsm['commot-our_db-sum-sender'].index.tolist())\n",
    "    interact_df = interact_df.T\n",
    "    return interact_df"
   ]
  },
  {
   "cell_type": "code",
   "execution_count": 15,
   "metadata": {
    "tags": []
   },
   "outputs": [],
   "source": [
    "'interaction db, contain complex'\n",
    "interaction_db = pd.read_csv('/home/qukun/ccp1997/GBM_10X/In_depth/scRNA_matrix/interaction_input_CellChatDB.combined.v1.csv',index_col=0)\n",
    "\n",
    "'stme interaction'\n",
    "gbm = sc.read_h5ad('/home/qukun/ccp1997/GBM_10X/ng_revised/harmony/gbm_integrated_final_neurons.h5ad')\n",
    "gbm.raw = gbm\n",
    "sc.pp.normalize_total(gbm, target_sum=1e4)\n",
    "sc.pp.log1p(gbm)"
   ]
  },
  {
   "cell_type": "markdown",
   "metadata": {},
   "source": [
    "## t-test"
   ]
  },
  {
   "cell_type": "code",
   "execution_count": 18,
   "metadata": {
    "tags": []
   },
   "outputs": [],
   "source": [
    "USE_INTERACTION_MATRIX = False\n",
    "\n",
    "LR_df = get_LR_df(merge_adata)\n",
    "leiden_result = merge_adata.obs['Ecoregion'].tolist()\n",
    "\n",
    "ER1_result = fdr_t_test(LR_df, \n",
    "                        leiden_result, \n",
    "                        target='ER1')\n"
   ]
  },
  {
   "cell_type": "code",
   "execution_count": 19,
   "metadata": {
    "tags": []
   },
   "outputs": [],
   "source": [
    "ligand_record = []\n",
    "receptor_record = []\n",
    "    \n",
    "for lr_pair in ER1_result.index:\n",
    "    if lr_pair.split('-') == [3]:\n",
    "        ligand_record.append( lr_pair.split('-')[0] + '-' + lr_pair.split('-')[1] )\n",
    "        receptor_record.append( lr_pair.split('-')[2] )\n",
    "    else:\n",
    "        ligand_record.append( lr_pair.split('-')[0] )\n",
    "        receptor_record.append( lr_pair.split('-')[1] )\n",
    "        \n",
    "ER1_result['ligand'] = ligand_record\n",
    "ER1_result['receptor'] = receptor_record\n",
    "ER1_result['interaction'] = [  ER1_result.loc[item]['ligand'] + '_' + ER1_result.loc[item]['receptor']  for item in ER1_result.index]\n",
    "\n",
    "'remove not exp and complex'\n",
    "select = []\n",
    "for item in ER1_result.index:\n",
    "    if ( len(ER1_result.loc[item]['interaction'].split('_')) == 2 ) and ( len(np.intersect1d(ER1_result.loc[item]['interaction'].split('_'), gbm.var['features'])) == 2 ):\n",
    "        select.append(item)\n",
    "    else:\n",
    "        continue"
   ]
  },
  {
   "cell_type": "code",
   "execution_count": 20,
   "metadata": {
    "tags": []
   },
   "outputs": [],
   "source": [
    "ER1_result = fdr_t_test(LR_df, \n",
    "                        leiden_result, \n",
    "                        target='ER1')\n"
   ]
  },
  {
   "cell_type": "code",
   "execution_count": 21,
   "metadata": {
    "tags": []
   },
   "outputs": [],
   "source": [
    "ER2_result = fdr_t_test(LR_df, \n",
    "                        leiden_result, \n",
    "                        target='ER2')\n"
   ]
  },
  {
   "cell_type": "code",
   "execution_count": 22,
   "metadata": {
    "tags": []
   },
   "outputs": [],
   "source": [
    "ER3_result = fdr_t_test(LR_df, \n",
    "                        leiden_result, \n",
    "                        target='ER3')\n"
   ]
  },
  {
   "cell_type": "code",
   "execution_count": 23,
   "metadata": {
    "tags": []
   },
   "outputs": [],
   "source": [
    "ER4_result = fdr_t_test(LR_df, \n",
    "                        leiden_result, \n",
    "                        target='ER4')\n"
   ]
  },
  {
   "cell_type": "code",
   "execution_count": 24,
   "metadata": {
    "tags": []
   },
   "outputs": [],
   "source": [
    "'filter complex and not expression'\n",
    "ER1_result = ER1_result.loc[select]\n",
    "ER2_result = ER2_result.loc[select]\n",
    "ER3_result = ER3_result.loc[select]\n",
    "ER4_result = ER4_result.loc[select]"
   ]
  },
  {
   "cell_type": "code",
   "execution_count": 25,
   "metadata": {
    "tags": []
   },
   "outputs": [],
   "source": [
    "'change name'\n",
    "ER1_result.index = [ item.split('-')[0] + '_' + item.split('-')[1] for item in ER1_result.index]\n",
    "ER2_result.index = [ item.split('-')[0] + '_' + item.split('-')[1] for item in ER2_result.index]\n",
    "ER3_result.index = [ item.split('-')[0] + '_' + item.split('-')[1] for item in ER3_result.index]\n",
    "ER4_result.index = [ item.split('-')[0] + '_' + item.split('-')[1] for item in ER4_result.index]"
   ]
  },
  {
   "cell_type": "code",
   "execution_count": null,
   "metadata": {},
   "outputs": [],
   "source": []
  },
  {
   "cell_type": "code",
   "execution_count": 26,
   "metadata": {
    "tags": []
   },
   "outputs": [],
   "source": [
    "'load LR frequency'\n",
    "stme1_dataframe = pd.read_csv('/home/qukun/ccp1997/GBM_10X/ng_revised/commot/cutoff50/stme1_dataframe.csv',index_col=0)\n",
    "stme2_dataframe = pd.read_csv('/home/qukun/ccp1997/GBM_10X/ng_revised/commot/cutoff50/stme2_dataframe.csv',index_col=0)\n",
    "stme3_dataframe = pd.read_csv('/home/qukun/ccp1997/GBM_10X/ng_revised/commot/cutoff50/stme3_dataframe.csv',index_col=0)\n",
    "stme4_dataframe = pd.read_csv('/home/qukun/ccp1997/GBM_10X/ng_revised/commot/cutoff50/stme4_dataframe.csv',index_col=0)"
   ]
  },
  {
   "cell_type": "code",
   "execution_count": 27,
   "metadata": {
    "tags": []
   },
   "outputs": [],
   "source": [
    "STME1_record = pd.read_csv('/home/qukun/ccp1997/GBM_10X/ng_revised/commot/STME1_reult_record.csv',index_col=0)\n",
    "STME2_record = pd.read_csv('/home/qukun/ccp1997/GBM_10X/ng_revised/commot/STME2_reult_record.csv',index_col=0)\n",
    "STME3_record = pd.read_csv('/home/qukun/ccp1997/GBM_10X/ng_revised/commot/STME3_reult_record.csv',index_col=0)\n",
    "STME4_record = pd.read_csv('/home/qukun/ccp1997/GBM_10X/ng_revised/commot/STME4_reult_record.csv',index_col=0)"
   ]
  },
  {
   "cell_type": "code",
   "execution_count": 28,
   "metadata": {
    "tags": []
   },
   "outputs": [],
   "source": [
    "'save compare'\n",
    "ER1_result_compare = ER1_result\n",
    "ER2_result_compare = ER2_result\n",
    "ER3_result_compare = ER3_result\n",
    "ER4_result_compare = ER4_result"
   ]
  },
  {
   "cell_type": "code",
   "execution_count": null,
   "metadata": {},
   "outputs": [],
   "source": []
  },
  {
   "cell_type": "code",
   "execution_count": 29,
   "metadata": {
    "tags": []
   },
   "outputs": [],
   "source": [
    "'generate compare'\n",
    "counts = []\n",
    "for inter in ER1_result_compare.index:\n",
    "    if inter in stme1_dataframe.index:\n",
    "        counts.append(stme1_dataframe.loc[inter]['counts'])\n",
    "    else:\n",
    "        counts.append(0)\n",
    "\n",
    "ER1_result_compare['counts'] = counts\n",
    "\n",
    "counts = []\n",
    "for inter in ER2_result_compare.index:\n",
    "    if inter in stme2_dataframe.index:\n",
    "        counts.append(stme2_dataframe.loc[inter]['counts'])\n",
    "    else:\n",
    "        counts.append(0)\n",
    "\n",
    "ER2_result_compare['counts'] = counts\n",
    "\n",
    "counts = []\n",
    "for inter in ER3_result_compare.index:\n",
    "    if inter in stme3_dataframe.index:\n",
    "        counts.append(stme3_dataframe.loc[inter]['counts'])\n",
    "    else:\n",
    "        counts.append(0)\n",
    "\n",
    "ER3_result_compare['counts'] = counts\n",
    "\n",
    "counts = []\n",
    "for inter in ER4_result_compare.index:\n",
    "    if inter in stme4_dataframe.index:\n",
    "        counts.append(stme4_dataframe.loc[inter]['counts'])\n",
    "    else:\n",
    "        counts.append(0)\n",
    "\n",
    "ER4_result_compare['counts'] = counts"
   ]
  },
  {
   "cell_type": "code",
   "execution_count": null,
   "metadata": {},
   "outputs": [],
   "source": []
  },
  {
   "cell_type": "code",
   "execution_count": 30,
   "metadata": {
    "tags": []
   },
   "outputs": [
    {
     "data": {
      "text/plain": [
       "'ER1 plot'"
      ]
     },
     "execution_count": 30,
     "metadata": {},
     "output_type": "execute_result"
    }
   ],
   "source": [
    "'ER1 plot'"
   ]
  },
  {
   "cell_type": "code",
   "execution_count": 31,
   "metadata": {
    "tags": []
   },
   "outputs": [],
   "source": [
    "minimum_value = ER2_result.loc[ER2_result['p_val_corrected'] != 0.0].sort_values('p_val_corrected')['p_val_corrected'][0]\n",
    "\n",
    "ER1_result['FC'] = list(ER1_result['mean_in_target']/ER1_result['mean_in_rest'])\n",
    "ER1_result = ER1_result.loc[ER1_result['FC'] >= 1]\n",
    "\n",
    "ER1_result['logFDR'] = [ -1 * math.log10(item+minimum_value) for item in ER1_result['p_val_corrected']]\n",
    "ER1_result['logFC'] = [ math.log2(item) for item in ER1_result['FC']]\n",
    "\n",
    "counts = []\n",
    "for inter in ER1_result.index:\n",
    "    if inter in stme1_dataframe.index:\n",
    "        counts.append(stme1_dataframe.loc[inter]['counts'])\n",
    "    else:\n",
    "        counts.append(0)\n",
    "\n",
    "ER1_result['counts'] = counts\n",
    "\n",
    "ER2_result['FC'] = list(ER2_result['mean_in_target']/ER2_result['mean_in_rest'])\n",
    "ER2_result = ER2_result.loc[ER2_result['FC'] >= 1]\n",
    "\n",
    "ER2_result['logFDR'] = [ -1 * math.log10(item+minimum_value) for item in ER2_result['p_val_corrected']]\n",
    "ER2_result['logFC'] = [ math.log2(item) for item in ER2_result['FC']]\n",
    "\n",
    "counts = []\n",
    "for inter in ER2_result.index:\n",
    "    if inter in stme2_dataframe.index:\n",
    "        counts.append(stme2_dataframe.loc[inter]['counts'])\n",
    "    else:\n",
    "        counts.append(0)\n",
    "\n",
    "ER2_result['counts'] = counts\n",
    "\n",
    "ER3_result['FC'] = list(ER3_result['mean_in_target']/ER3_result['mean_in_rest'])\n",
    "ER3_result = ER3_result.loc[ER3_result['FC'] >= 1]\n",
    "\n",
    "ER3_result['logFDR'] = [ -1 * math.log10(item+minimum_value) for item in ER3_result['p_val_corrected']]\n",
    "ER3_result['logFC'] = [ math.log2(item) for item in ER3_result['FC']]\n",
    "\n",
    "counts = []\n",
    "for inter in ER3_result.index:\n",
    "    if inter in stme3_dataframe.index:\n",
    "        counts.append(stme3_dataframe.loc[inter]['counts'])\n",
    "    else:\n",
    "        counts.append(0)\n",
    "\n",
    "ER3_result['counts'] = counts\n",
    "\n",
    "ER4_result['FC'] = list(ER4_result['mean_in_target']/ER4_result['mean_in_rest'])\n",
    "ER4_result = ER4_result.loc[ER4_result['FC'] >= 1]\n",
    "\n",
    "ER4_result['logFDR'] = [ -1 * math.log10(item+minimum_value) for item in ER4_result['p_val_corrected']]\n",
    "ER4_result['logFC'] = [ math.log2(item) for item in ER4_result['FC']]\n",
    "\n",
    "counts = []\n",
    "for inter in ER4_result.index:\n",
    "    if inter in stme4_dataframe.index:\n",
    "        counts.append(stme4_dataframe.loc[inter]['counts'])\n",
    "    else:\n",
    "        counts.append(0)\n",
    "\n",
    "ER4_result['counts'] = counts"
   ]
  },
  {
   "cell_type": "code",
   "execution_count": 36,
   "metadata": {
    "tags": []
   },
   "outputs": [],
   "source": [
    "merge_db = interaction_db.loc[interaction_db['pathway_name'] == 'VEGF'].index.tolist() + interaction_db.loc[interaction_db['pathway_name'] == 'IL6'].index.tolist() +\\\n",
    "interaction_db.loc[interaction_db['pathway_name'] == 'MIF'].index.tolist() + interaction_db.loc[interaction_db['pathway_name'] == 'COLLAGEN'].index.tolist() +\\\n",
    "interaction_db.loc[interaction_db['pathway_name'] == 'LAMININ'].index.tolist() + interaction_db.loc[interaction_db['pathway_name'] == 'TGFb'].index.tolist() +\\\n",
    "interaction_db.loc[interaction_db['pathway_name'] == 'THBS'].index.tolist() + interaction_db.loc[interaction_db['pathway_name'] == 'NOTCH'].index.tolist() +\\\n",
    "interaction_db.loc[interaction_db['pathway_name'] == 'FN1'].index.tolist() +\\\n",
    "interaction_db.loc[interaction_db['pathway_name'] == 'PDGF'].index.tolist() + interaction_db.loc[interaction_db['pathway_name'] == 'SEMA3'].index.tolist() +\\\n",
    "interaction_db.loc[interaction_db['pathway_name'] == 'ACTIVIN'].index.tolist() + interaction_db.loc[interaction_db['pathway_name'] == 'HSPG'].index.tolist() +\\\n",
    "interaction_db.loc[interaction_db['pathway_name'] == 'INSULIN'].index.tolist() + interaction_db.loc[interaction_db['pathway_name'] == 'ANGPT'].index.tolist() +\\\n",
    "interaction_db.loc[interaction_db['pathway_name'] == 'EDN'].index.tolist() + interaction_db.loc[interaction_db['pathway_name'] == 'NRXN'].index.tolist() +\\\n",
    "interaction_db.loc[interaction_db['pathway_name'] == 'EPHB'].index.tolist() + interaction_db.loc[interaction_db['pathway_name'] == 'SEMA6'].index.tolist() +\\\n",
    "interaction_db.loc[interaction_db['pathway_name'] == 'GDF'].index.tolist() + interaction_db.loc[interaction_db['pathway_name'] == 'PTN'].index.tolist()\n",
    "\n"
   ]
  },
  {
   "cell_type": "code",
   "execution_count": 39,
   "metadata": {
    "tags": []
   },
   "outputs": [],
   "source": [
    "'filter'\n",
    "ER1_result_filter = ER1_result.loc[ER1_result['mean_in_target'] >= 0.01]\n",
    "\n",
    "color_list = []\n",
    "for inter in ER1_result_filter.index:\n",
    "    if (ER1_result_filter.loc[inter]['FC'] >= 1.25)&(ER1_result_filter.loc[inter]['logFDR'] >= 20):\n",
    "        color_list.append('#B42373')\n",
    "    else:\n",
    "        color_list.append('grey')\n",
    "\n",
    "ER1_result_filter['color'] = color_list\n",
    "\n",
    "'only select pathway'\n",
    "ER1_result_filter = ER1_result_filter.loc[np.intersect1d(ER1_result_filter.index,merge_db)]\n",
    "\n",
    "ER1_pass = []\n",
    "for inter in ER1_result_filter.index:\n",
    "    if ER1_result_filter.loc[inter]['color'] == 'grey':\n",
    "        ER1_pass.append(inter)\n",
    "    else:\n",
    "        adj_FDR = []\n",
    "        for k in [ER2_result_compare,ER3_result_compare,ER4_result_compare]:\n",
    "            if k.loc[inter]['FC'] < 1:\n",
    "                adj_FDR.append(1)\n",
    "            else:\n",
    "                adj_FDR.append(k.loc[inter]['p_val_corrected'])  \n",
    "        \n",
    "        if ((ER1_result_compare.loc[inter]['counts'] >= 4) & (ER1_result_compare.loc[inter]['p_val_corrected'] <= np.min(adj_FDR) )) & (ER1_result_compare.loc[inter]['mean_in_target'] >= 0.05):\n",
    "            ER1_pass.append(inter)\n",
    "\n",
    "ER1_result_filter = ER1_result_filter.loc[ER1_pass]\n",
    "\n",
    "\n",
    "size = []\n",
    "for inter in ER1_result_filter.index:\n",
    "    size.append( (ER1_result_filter.loc[inter]['counts'] + 1)*4 )\n",
    "ER1_result_filter['size'] = size\n",
    "\n",
    "ER1_result_filter['pathway'] = interaction_db.loc[ER1_result_filter.index]['pathway_name']"
   ]
  },
  {
   "cell_type": "code",
   "execution_count": 40,
   "metadata": {
    "tags": []
   },
   "outputs": [
    {
     "data": {
      "text/plain": [
       "(0.0, 320.0)"
      ]
     },
     "execution_count": 40,
     "metadata": {},
     "output_type": "execute_result"
    },
    {
     "data": {
      "image/png": "[encoded data removed]",
      "text/plain": [
       "<Figure size 500x350 with 1 Axes>"
      ]
     },
     "metadata": {},
     "output_type": "display_data"
    }
   ],
   "source": [
    "plt.figure(figsize=(5,3.5))\n",
    "plt.scatter(x=ER1_result_filter['logFC'],y=ER1_result_filter['logFDR'],s= 40,c=ER1_result_filter['color'],linewidths=0.2,edgecolors='black')   \n",
    "plt.hlines(y=20,xmin=0.0,xmax=2.5,linestyles='dashed',linewidths=1.5,colors='black')\n",
    "plt.vlines(x=math.log2(1.25),ymin=0,ymax=320,linestyles='dashed',linewidths=1.5,colors='black')\n",
    "plt.xlim(0,2.5)\n",
    "plt.ylim(0,320)\n",
    "#plt.savefig('/home/qukun/ccp1997/GBM_10X/ng_revised/figure/result_2/four_quadrant_ER1_commot.pdf')"
   ]
  },
  {
   "cell_type": "code",
   "execution_count": 44,
   "metadata": {
    "tags": []
   },
   "outputs": [],
   "source": [
    "ER1_result_filter.loc[ER1_result_filter['color'] != 'grey'].to_csv('/home/qukun/ccp1997/GBM_10X/ng_revised/commot/ER1_four_quadrant.csv')   \n"
   ]
  },
  {
   "cell_type": "code",
   "execution_count": null,
   "metadata": {},
   "outputs": [],
   "source": []
  },
  {
   "cell_type": "code",
   "execution_count": 48,
   "metadata": {
    "tags": []
   },
   "outputs": [],
   "source": [
    "'filter'\n",
    "ER2_result_filter = ER2_result.loc[ER2_result['mean_in_target'] >= 0.01]\n",
    "\n",
    "color_list = []\n",
    "for inter in ER2_result_filter.index:\n",
    "    if (ER2_result_filter.loc[inter]['FC'] >= 1.25)&(ER2_result_filter.loc[inter]['logFDR'] >= 20):\n",
    "        color_list.append('#B43826')\n",
    "    else:\n",
    "        color_list.append('grey')\n",
    "\n",
    "ER2_result_filter['color'] = color_list\n",
    "\n",
    "'only select pathway'\n",
    "ER2_result_filter = ER2_result_filter.loc[np.intersect1d(ER2_result_filter.index,merge_db)]\n",
    "\n",
    "ER2_pass = []\n",
    "for inter in ER2_result_filter.index:\n",
    "    if ER2_result_filter.loc[inter]['color'] == 'grey':\n",
    "        ER2_pass.append(inter)\n",
    "    else:\n",
    "        adj_FDR = []\n",
    "        for k in [ER1_result_compare,ER3_result_compare,ER4_result_compare]:\n",
    "            if k.loc[inter]['FC'] < 1:\n",
    "                adj_FDR.append(1)\n",
    "            else:\n",
    "                adj_FDR.append(k.loc[inter]['p_val_corrected']) \n",
    "   \n",
    "        if ((ER2_result_compare.loc[inter]['counts'] >= 4) & (ER2_result_compare.loc[inter]['p_val_corrected'] <= np.min(adj_FDR) )) & (ER2_result_compare.loc[inter]['mean_in_target'] >= 0.05):\n",
    "            ER2_pass.append(inter)\n",
    "\n",
    "ER2_result_filter = ER2_result_filter.loc[ER2_pass]\n",
    "\n",
    "size = []\n",
    "for inter in ER2_result_filter.index:\n",
    "    size.append( (ER2_result_filter.loc[inter]['counts'] + 1)*4 )\n",
    "ER2_result_filter['size'] = size\n",
    "\n",
    "ER2_result_filter['pathway'] = interaction_db.loc[ER2_result_filter.index]['pathway_name']"
   ]
  },
  {
   "cell_type": "code",
   "execution_count": 50,
   "metadata": {
    "tags": []
   },
   "outputs": [
    {
     "data": {
      "text/plain": [
       "(0.0, 320.0)"
      ]
     },
     "execution_count": 50,
     "metadata": {},
     "output_type": "execute_result"
    },
    {
     "data": {
      "image/png": "[encoded data removed]",
      "text/plain": [
       "<Figure size 600x350 with 1 Axes>"
      ]
     },
     "metadata": {},
     "output_type": "display_data"
    }
   ],
   "source": [
    "plt.figure(figsize=(6,3.5))\n",
    "plt.scatter(x=ER2_result_filter['logFC'],y=ER2_result_filter['logFDR'],s= 40,c=ER2_result_filter['color'],linewidths=0.2,edgecolors='black')   \n",
    "plt.hlines(y=20,xmin=0.0,xmax=4.0,linestyles='dashed',linewidths=1.5,colors='black')\n",
    "plt.vlines(x=math.log2(1.25),ymin=0,ymax=320,linestyles='dashed',linewidths=1.5,colors='black')\n",
    "plt.xlim(0,4.0)\n",
    "plt.ylim(0,320)\n",
    "#plt.savefig('/home/qukun/ccp1997/GBM_10X/ng_revised/figure/result_2/four_quadrant_ER2_commot.pdf')\n"
   ]
  },
  {
   "cell_type": "code",
   "execution_count": 62,
   "metadata": {
    "tags": []
   },
   "outputs": [],
   "source": [
    "ER2_result_filter.loc[ER2_result_filter['color'] != 'grey'].to_csv('/home/qukun/ccp1997/GBM_10X/ng_revised/commot/ER2_four_quadrant.csv')     \n"
   ]
  },
  {
   "cell_type": "code",
   "execution_count": null,
   "metadata": {},
   "outputs": [],
   "source": []
  },
  {
   "cell_type": "code",
   "execution_count": 92,
   "metadata": {
    "tags": []
   },
   "outputs": [],
   "source": [
    "'filter'\n",
    "ER3_result_filter = ER3_result.loc[ER3_result['mean_in_target'] >= 0.01]\n",
    "\n",
    "color_list = []\n",
    "for inter in ER3_result_filter.index:\n",
    "    if (ER3_result_filter.loc[inter]['FC'] >= 1.25)&(ER3_result_filter.loc[inter]['logFDR'] >= 20):\n",
    "        color_list.append('#5FBE9B')\n",
    "    else:\n",
    "        color_list.append('grey')\n",
    "\n",
    "ER3_result_filter['color'] = color_list\n",
    "\n",
    "'only select pathway'\n",
    "ER3_result_filter = ER3_result_filter.loc[np.intersect1d(ER3_result_filter.index,merge_db)]\n",
    "\n",
    "ER3_pass = []\n",
    "for inter in ER3_result_filter.index:\n",
    "    if ER3_result_filter.loc[inter]['color'] == 'grey':\n",
    "        ER3_pass.append(inter)\n",
    "    else:\n",
    "        adj_FDR = []\n",
    "        for k in [ER1_result_compare,ER2_result_compare,ER4_result_compare]:\n",
    "            if k.loc[inter]['FC'] < 1:\n",
    "                adj_FDR.append(1)\n",
    "            else:\n",
    "                adj_FDR.append(k.loc[inter]['p_val_corrected']) \n",
    "                \n",
    "        if ((ER3_result_compare.loc[inter]['counts'] >= 4) & (ER3_result_compare.loc[inter]['p_val_corrected'] <= np.min(adj_FDR) )) & (ER3_result_compare.loc[inter]['mean_in_target'] >= 0.05):   \n",
    "            ER3_pass.append(inter)\n",
    "\n",
    "ER3_result_filter = ER3_result_filter.loc[ER3_pass]\n",
    "\n",
    "\n",
    "size = []\n",
    "for inter in ER3_result_filter.index:\n",
    "    size.append( (ER3_result_filter.loc[inter]['counts'] + 1)*4 )\n",
    "ER3_result_filter['size'] = size\n",
    "\n",
    "ER3_result_filter['pathway'] = interaction_db.loc[ER3_result_filter.index]['pathway_name']"
   ]
  },
  {
   "cell_type": "code",
   "execution_count": 93,
   "metadata": {
    "tags": []
   },
   "outputs": [
    {
     "data": {
      "text/plain": [
       "(0.0, 320.0)"
      ]
     },
     "execution_count": 93,
     "metadata": {},
     "output_type": "execute_result"
    },
    {
     "data": {
      "image/png": "[encoded data removed]",
      "text/plain": [
       "<Figure size 500x350 with 1 Axes>"
      ]
     },
     "metadata": {},
     "output_type": "display_data"
    }
   ],
   "source": [
    "plt.figure(figsize=(5,3.5))\n",
    "plt.scatter(x=ER3_result_filter['logFC'],y=ER3_result_filter['logFDR'],s= 40,c=ER3_result_filter['color'],linewidths=0.2,edgecolors='black')   \n",
    "plt.hlines(y=20,xmin=0.0,xmax=2.5,linestyles='dashed',linewidths=1.5,colors='black')\n",
    "plt.vlines(x=math.log2(1.25),ymin=0,ymax=320,linestyles='dashed',linewidths=1.5,colors='black')\n",
    "plt.xlim(0,2.5)\n",
    "plt.ylim(0,320)\n",
    "#plt.savefig('/home/qukun/ccp1997/GBM_10X/ng_revised/figure/result_2/four_quadrant_ER3_commot.pdf')\n"
   ]
  },
  {
   "cell_type": "code",
   "execution_count": 97,
   "metadata": {
    "tags": []
   },
   "outputs": [],
   "source": [
    "ER3_result_filter.loc[ER3_result_filter['color'] != 'grey'].to_csv('/home/qukun/ccp1997/GBM_10X/ng_revised/commot/ER3_four_quadrant.csv')  \n"
   ]
  },
  {
   "cell_type": "code",
   "execution_count": null,
   "metadata": {},
   "outputs": [],
   "source": []
  },
  {
   "cell_type": "code",
   "execution_count": 158,
   "metadata": {
    "tags": []
   },
   "outputs": [],
   "source": [
    "'filter'\n",
    "ER4_result_filter = ER4_result.loc[ER4_result['mean_in_target'] >= 0.01]\n",
    "\n",
    "color_list = []\n",
    "for inter in ER4_result_filter.index:\n",
    "    if (ER4_result_filter.loc[inter]['FC'] >= 1.25)&(ER4_result_filter.loc[inter]['logFDR'] >= 20):\n",
    "        color_list.append('#F4A947')\n",
    "    else:\n",
    "        color_list.append('grey')\n",
    "\n",
    "ER4_result_filter['color'] = color_list\n",
    "\n",
    "'only select pathway'\n",
    "ER4_result_filter = ER4_result_filter.loc[np.intersect1d(ER4_result_filter.index,merge_db)]\n",
    "\n",
    "ER4_pass = []\n",
    "for inter in ER4_result_filter.index:\n",
    "    if ER4_result_filter.loc[inter]['color'] == 'grey':\n",
    "        ER4_pass.append(inter)\n",
    "    else:\n",
    "        adj_FDR = []\n",
    "        for k in [ER1_result_compare,ER2_result_compare,ER3_result_compare]:\n",
    "            if k.loc[inter]['FC'] < 1:\n",
    "                adj_FDR.append(1)\n",
    "            else:\n",
    "                adj_FDR.append(k.loc[inter]['p_val_corrected']) \n",
    "                   \n",
    "        if ((ER4_result_compare.loc[inter]['counts'] >= 6) & (ER4_result_compare.loc[inter]['p_val_corrected'] <= np.min(adj_FDR) )) & (ER4_result_compare.loc[inter]['mean_in_target'] >= 0.05):   \n",
    "            ER4_pass.append(inter)\n",
    "\n",
    "ER4_result_filter = ER4_result_filter.loc[ER4_pass]\n",
    "\n",
    "\n",
    "size = []\n",
    "for inter in ER4_result_filter.index:\n",
    "    size.append( (ER4_result_filter.loc[inter]['counts'] + 1)*4 )\n",
    "ER4_result_filter['size'] = size\n",
    "\n",
    "ER4_result_filter['pathway'] = interaction_db.loc[ER4_result_filter.index]['pathway_name']"
   ]
  },
  {
   "cell_type": "code",
   "execution_count": 76,
   "metadata": {
    "tags": []
   },
   "outputs": [
    {
     "data": {
      "image/png": "[encoded data removed]",
      "text/plain": [
       "<Figure size 600x350 with 1 Axes>"
      ]
     },
     "metadata": {},
     "output_type": "display_data"
    }
   ],
   "source": [
    "plt.figure(figsize=(6.0,3.5))\n",
    "plt.scatter(x=ER4_result_filter['logFC'],y=ER4_result_filter['logFDR'],s= 40,c=ER4_result_filter['color'],linewidths=0.2,edgecolors='black')   \n",
    "plt.hlines(y=20,xmin=0.0,xmax=4.0,linestyles='dashed',linewidths=1.5,colors='black')\n",
    "plt.vlines(x=math.log2(1.25),ymin=0,ymax=320,linestyles='dashed',linewidths=1.5,colors='black')\n",
    "plt.xlim(0,4.0)\n",
    "plt.ylim(0,320)\n",
    "#plt.savefig('/home/qukun/ccp1997/GBM_10X/ng_revised/figure/result_2/four_quadrant_ER4_commot.pdf')\n"
   ]
  },
  {
   "cell_type": "code",
   "execution_count": 80,
   "metadata": {
    "tags": []
   },
   "outputs": [],
   "source": [
    "ER4_result_filter.loc[ER4_result_filter['color'] != 'grey'].to_csv('/home/qukun/ccp1997/GBM_10X/ng_revised/commot/ER4_four_quadrant.csv')    \n"
   ]
  },
  {
   "cell_type": "code",
   "execution_count": null,
   "metadata": {},
   "outputs": [],
   "source": []
  },
  {
   "cell_type": "code",
   "execution_count": null,
   "metadata": {},
   "outputs": [],
   "source": []
  },
  {
   "cell_type": "code",
   "execution_count": null,
   "metadata": {},
   "outputs": [],
   "source": []
  },
  {
   "cell_type": "code",
   "execution_count": null,
   "metadata": {},
   "outputs": [],
   "source": []
  },
  {
   "cell_type": "code",
   "execution_count": null,
   "metadata": {},
   "outputs": [],
   "source": []
  },
  {
   "cell_type": "code",
   "execution_count": null,
   "metadata": {},
   "outputs": [],
   "source": []
  },
  {
   "cell_type": "code",
   "execution_count": null,
   "metadata": {},
   "outputs": [],
   "source": []
  },
  {
   "cell_type": "code",
   "execution_count": null,
   "metadata": {},
   "outputs": [],
   "source": []
  },
  {
   "cell_type": "code",
   "execution_count": null,
   "metadata": {},
   "outputs": [],
   "source": []
  },
  {
   "cell_type": "code",
   "execution_count": null,
   "metadata": {},
   "outputs": [],
   "source": []
  },
  {
   "cell_type": "code",
   "execution_count": null,
   "metadata": {},
   "outputs": [],
   "source": []
  }
 ],
 "metadata": {
  "kernelspec": {
   "display_name": "tangram_env",
   "language": "python",
   "name": "tangram_env"
  },
  "language_info": {
   "codemirror_mode": {
    "name": "ipython",
    "version": 3
   },
   "file_extension": ".py",
   "mimetype": "text/x-python",
   "name": "python",
   "nbconvert_exporter": "python",
   "pygments_lexer": "ipython3",
   "version": "3.8.19"
  }
 },
 "nbformat": 4,
 "nbformat_minor": 4
}
